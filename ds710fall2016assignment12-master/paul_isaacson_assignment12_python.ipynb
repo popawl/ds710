{
 "cells": [
  {
   "cell_type": "markdown",
   "metadata": {},
   "source": [
    "#Problem 1(a).  A collectible card class.\n",
    "\n",
    "You are tasked with organizing information about a Magic: The Gathering card collection.  You are particularly interested in which cards are most rare, and therefore most valuable.\n",
    "\n",
    "The MTG JSON website (http://mtgjson.com/) has information about different sets of Magic: The Gathering cards in JSON format.  Using the [Example Card](http://mtgjson.com/#exampleCard) information, create a MagicCard class to store relevant information about Magic cards in Python.\n",
    "\n",
    "Consider:\n",
    "\n",
    "* How should someone initialize an instance of your class?\n",
    "* What functions should your class have?"
   ]
  },
  {
   "cell_type": "code",
   "execution_count": 1,
   "metadata": {
    "collapsed": true
   },
   "outputs": [],
   "source": [
    "import json\n",
    "import itertools\n",
    "import pandas as pd\n",
    "from collections import Counter\n",
    "\n",
    "class Card(object):\n",
    "    '''A Magic The Gathering Card Class'''\n",
    "    def __init__(self, id_, name, rarity, colors):\n",
    "        self.__id = id_\n",
    "        self.__name = name\n",
    "        self.__rarity = rarity\n",
    "        self.__colors = colors\n",
    "    \n",
    "    def __repr__(self):\n",
    "        return \"Card(id_='{0}', name='{1}', rarity='{2}', colors='{3}')\".format( \n",
    "                self.__id_, \n",
    "                self.__name, \n",
    "                self.__rarity, \n",
    "                self.__colors)\n",
    "\n",
    "    def __str__(self):\n",
    "        return \"Id {0}, Name: {1}, Rarity: {2}, Colors: {3}\".format(\n",
    "                self.__id_, \n",
    "                self.__name, \n",
    "                self.__rarity, \n",
    "                self.__colors)\n",
    "\n",
    "    def get_id(self):\n",
    "        return self.__id\n",
    "\n",
    "    def get_name(self):\n",
    "        return self.__name\n",
    "\n",
    "    def get_rarity(self):\n",
    "        return self.__rarity\n",
    "\n",
    "    def get_colors(self):\n",
    "        return self.__colors"
   ]
  },
  {
   "cell_type": "markdown",
   "metadata": {},
   "source": [
    "#Problem 1(b). Class for a set of Magic cards.\n",
    "\n",
    "Download the data for the Dragons of Tarkir set from the [Individual Sets](http://mtgjson.com/#individualSets) section of the MTG JSON page.  Create a MagicCardSet class to store relevant information about a set of Magic cards, and create an instance of the class which contains all of the information about the Dragons of Tarkir set."
   ]
  },
  {
   "cell_type": "code",
   "execution_count": 14,
   "metadata": {
    "collapsed": false
   },
   "outputs": [
    {
     "name": "stdout",
     "output_type": "stream",
     "text": [
      "mkm_id: 1601, mkm_name: Dragons of Tarkir, type: expansion, releaseDate: 2015-03-27, numCards: 264\n"
     ]
    }
   ],
   "source": [
    "class CardSet(object):\n",
    "    '''A Magic The Gathering Card Set Class'''\n",
    "    def __init__(self, mkm_id, mkm_name, type_, releaseDate, cards):\n",
    "        self.__mkm_id = mkm_id \n",
    "        self.__mkm_name = mkm_name\n",
    "        self.__type = type_\n",
    "        self.__releaseDate = releaseDate\n",
    "        self.__cards = cards\n",
    "\n",
    "    def __repr__(self):\n",
    "        return \"CardSet(mkm_id='{0}', mkm_name='{1}', type='{2}', releaseDate='{3}', cards='{4}')\".format(\n",
    "                self.__mkm_id, \n",
    "                self.__mkm_name,\n",
    "                self.__type,\n",
    "                self.__releaseDate,\n",
    "                self.__cards)\n",
    "        \n",
    "    def __str__(self):\n",
    "        return \"mkm_id: {0}, mkm_name: {1}, type: {2}, releaseDate: {3}, numCards: {4}\".format( \n",
    "                self.__mkm_id, \n",
    "                self.__mkm_name,\n",
    "                self.__type,\n",
    "                self.__releaseDate,\n",
    "                len(self.__cards))\n",
    "\n",
    "    def get_rarest(self):\n",
    "        return [x for x in self.__cards if x.get_rarity() == 'Mythic Rare']\n",
    "\n",
    "def create_from_json(json_file):\n",
    "    with open(json_file, 'r', encoding='utf-8') as fobj:\n",
    "        data = json.loads(fobj.read())\n",
    "\n",
    "    card_list = [Card(card.get('id'), \n",
    "                      card.get('name'), \n",
    "                      card.get('rarity'),\n",
    "                      card.get('colors')) \n",
    "                  for card in data.get('cards')]    \n",
    "\n",
    "    return CardSet(data.get('mkm_id'), \n",
    "                   data.get('mkm_name'), \n",
    "                   data.get('type'), \n",
    "                   data.get('releaseDate'), \n",
    "                   card_list)\n",
    "\n",
    "cs = create_from_json('DTK-x.json')\n",
    "print(cs)"
   ]
  },
  {
   "cell_type": "markdown",
   "metadata": {},
   "source": [
    "#Problem 1(c).  Dragons of Tarkir.\n",
    "\n",
    "What are the rarest cards in the Dragons of Tarkir set?  What colors are they associated with?\n",
    "\n",
    "Write Python code to answer this question, then create a markdown cell which explains your method and conclusions."
   ]
  },
  {
   "cell_type": "code",
   "execution_count": 19,
   "metadata": {
    "collapsed": false
   },
   "outputs": [
    {
     "name": "stdout",
     "output_type": "stream",
     "text": [
      "1                 Clone Legion\n",
      "6             Deathmist Raptor\n",
      "4       Descent of the Dragons\n",
      "5             Dragon Whisperer\n",
      "8            Dragonlord Atarka\n",
      "9           Dragonlord Dromoka\n",
      "10         Dragonlord Kolaghan\n",
      "11           Dragonlord Ojutai\n",
      "12         Dragonlord Silumgar\n",
      "13         Narset Transcendent\n",
      "0             Ojutai Exemplars\n",
      "3            Risen Executioner\n",
      "14            Sarkhan Unbroken\n",
      "7     Shaman of Forgotten Ways\n",
      "2       Shorecrasher Elemental\n",
      "Name: name, dtype: object\n",
      "[('Blue', 6), ('Red', 5), ('Green', 5)]\n"
     ]
    }
   ],
   "source": [
    "rare = cs.get_rarest()\n",
    "\n",
    "df = pd.DataFrame([(x.get_id(), \n",
    "                    x.get_name(), \n",
    "                    x.get_rarity(), \n",
    "                    x.get_colors()) for x in rare],\n",
    "                  columns = ['id', 'name', 'rarity', 'colors'])\n",
    "\n",
    "c = Counter(list(itertools.chain.from_iterable(df.colors)))\n",
    "print(df.name.sort_values())\n",
    "print(c.most_common(3))"
   ]
  },
  {
   "cell_type": "markdown",
   "metadata": {},
   "source": [
    "First, I selected all cards with rarity of \"Mythic Rare\". This is the most rare a card can be. The method to return rare cards is part of the CardSet class and returns a list of Cards. After, I created a dataframe from this list by creating tuples of the attributes of the Card class using the appropriate get method. Finally, I used a Counter class to count the most common colors. This was slightly challenging because each card could have multiple colors. As such, I needed to flatten the list of lists. For that, I used the itertools.chain. \n",
    "\n",
    "There are 15 Mythic Rare cards in the Dragons of Tarkir set. The most common color appears to be Blue, followed by Red and Green."
   ]
  }
 ],
 "metadata": {
  "anaconda-cloud": {},
  "kernelspec": {
   "display_name": "Python [default]",
   "language": "python",
   "name": "python3"
  },
  "language_info": {
   "codemirror_mode": {
    "name": "ipython",
    "version": 3
   },
   "file_extension": ".py",
   "mimetype": "text/x-python",
   "name": "python",
   "nbconvert_exporter": "python",
   "pygments_lexer": "ipython3",
   "version": "3.5.2"
  }
 },
 "nbformat": 4,
 "nbformat_minor": 0
}
