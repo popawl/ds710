{
 "cells": [
  {
   "cell_type": "markdown",
   "metadata": {},
   "source": [
    "#Problem 1.  Revenue models.\n",
    "\n",
    "Average monthly revenue at each store in the TableFarm salad chain is $\\$100,000$, with a standard deviation of $\\$12,000$.  An advertising firm claims they can increase monthly revenue to $\\$120,000$, but the standard deviation will be increased as well, to $\\$25,000$.\n",
    "\n",
    "Write Python code to generate three lists of random numbers which model potential revenue: one list with 12 months of revenue using the current mean and standard deviation, another list with 12 months of revenue using the predicted mean and standard devition, and a third list combining your first two lists.  You can assume a normal distribution.  Round each number to the nearest $\\$1,000$."
   ]
  },
  {
   "cell_type": "code",
   "execution_count": 3,
   "metadata": {
    "collapsed": false
   },
   "outputs": [
    {
     "name": "stdout",
     "output_type": "stream",
     "text": [
      "[(101000.0, 92000.0), (94000.0, 112000.0), (66000.0, 85000.0), (120000.0, 21000.0), (114000.0, 121000.0), (101000.0, 176000.0), (102000.0, 107000.0), (90000.0, 122000.0), (111000.0, 122000.0), (103000.0, 140000.0), (137000.0, 113000.0), (109000.0, 110000.0)]\n"
     ]
    }
   ],
   "source": [
    "import random\n",
    "\n",
    "def simulate_year(my_mean, my_sd):\n",
    "    return [round(random.normalvariate(my_mean, my_sd),-3) for _ in range(12)]\n",
    "\n",
    "current = simulate_year(100000, 12000)\n",
    "new = simulate_year(120000, 25000)\n",
    "combined = list(zip(current, new))\n",
    "\n",
    "print(combined)"
   ]
  },
  {
   "cell_type": "markdown",
   "metadata": {},
   "source": [
    "#Problem 2(a).  Bus arrival times.\n",
    "\n",
    "Shuttle buses arrive at an airport to fetch passengers with an average interval of 15 minutes.  Their actual arrival times follow a [Poisson process](http://preshing.com/20111007/how-to-generate-random-timings-for-a-poisson-process/).  Use the ```random``` module to generate a list of 50 different bus intervals, rounded to the nearest minute.  For example, your list might begin ```[11, 34, 18, 23, ...]```.\n",
    "\n",
    "What is the shortest waiting time in your list?  What is the longest waiting time?"
   ]
  },
  {
   "cell_type": "code",
   "execution_count": 3,
   "metadata": {
    "collapsed": false
   },
   "outputs": [
    {
     "name": "stdout",
     "output_type": "stream",
     "text": [
      "The minimum wait time was 0.\n",
      "The maximum wait time was 73.\n"
     ]
    }
   ],
   "source": [
    "def simulate_wait_time(my_mean):\n",
    "    return [int(random.expovariate((1/my_mean))) for _ in range(50)]\n",
    "\n",
    "wait_times = simulate_wait_time(15)\n",
    "\n",
    "print('The minimum wait time was {0}.\\nThe maximum wait time was {1}.'\n",
    "      .format(min(wait_times), max(wait_times)))"
   ]
  },
  {
   "cell_type": "markdown",
   "metadata": {},
   "source": [
    "#Problem 2(b).  Cumulative waiting times.\n",
    "\n",
    "Suppose the first bus arrives at the measured number of minutes after midnight.  The bus company wants to track the time each bus arrived, measured in minutes after midnight.  Make a list of the number of minutes after midnight that each bus arrived at, using the list you generated in part (a).  With our example in part (a), for instance, the answer would start ```[11, 45, 63, 86, ...]```.\n",
    "\n",
    "At what time does the fiftieth bus arrive?"
   ]
  },
  {
   "cell_type": "code",
   "execution_count": 4,
   "metadata": {
    "collapsed": false
   },
   "outputs": [
    {
     "data": {
      "text/plain": [
       "50"
      ]
     },
     "execution_count": 4,
     "metadata": {},
     "output_type": "execute_result"
    }
   ],
   "source": [
    "import numpy as np\n",
    "\n",
    "cum_wait_times = np.cumsum(wait_times)\n",
    "cum_wait_times[4]"
   ]
  },
  {
   "cell_type": "markdown",
   "metadata": {},
   "source": [
    "#Problem 3(a).  Chocolate and the Nobel.\n",
    "\n",
    "Researchers have observed a (presumably spurious) correlation between per capita chocolate consumption and the rate of Nobel prize laureates: see [Chocolate Consumption, Cognitive Function, and Nobel Laureates](http://www.nejm.org/doi/full/10.1056/NEJMon1211064).  In this problem, we will create some sample data to simulate this relationship.\n",
    "\n",
    "Write Python code to produce a list of 50 ordered pairs $(c,n)$, where $c$ represents chocolate consumption in kg/year/person and $n$ represents the number of Nobel laureates per 10 million population.  The values for $c$ should be random numbers (not necessarily integers!) between 0 and 15.  You may assume that $c$ and $n$ are related by\n",
    "\n",
    "$n = 0.4\\cdot c-0.8$.\n",
    "\n",
    "However, it is not possible for a nation to have a negative number of Nobel laureates, so if your predicted value of $n$ is less than 0, replace that value by 0.\n",
    "\n",
    "Report your values of $c$ and $n$ to 2 decimal places."
   ]
  },
  {
   "cell_type": "code",
   "execution_count": 9,
   "metadata": {
    "collapsed": false,
    "scrolled": true
   },
   "outputs": [
    {
     "name": "stdout",
     "output_type": "stream",
     "text": [
      "[(2.89, 0.36), (13.0, 4.4), (14.12, 4.85), (1.34, 0), (0.96, 0), (3.76, 0.7), (14.77, 5.11), (13.39, 4.56), (2.43, 0.17), (6.06, 1.62), (7.96, 2.38), (5.34, 1.34), (2.1, 0.04), (6.49, 1.8), (7.64, 2.26), (10.1, 3.24), (10.74, 3.5), (2.01, 0.0), (0.28, 0), (8.47, 2.59), (0.16, 0), (13.27, 4.51), (5.93, 1.57), (0.1, 0), (7.03, 2.01), (6.24, 1.7), (0.66, 0), (11.05, 3.62), (8.07, 2.43), (4.73, 1.09), (1.56, 0), (10.07, 3.23), (8.78, 2.71), (5.49, 1.4), (0.35, 0), (2.38, 0.15), (4.84, 1.14), (5.81, 1.52), (13.77, 4.71), (14.08, 4.83), (14.56, 5.02), (10.98, 3.59), (9.95, 3.18), (2.5, 0.2), (1.95, 0), (11.58, 3.83), (11.71, 3.88), (7.84, 2.34), (10.63, 3.45), (4.63, 1.05)]\n"
     ]
    }
   ],
   "source": [
    "def simulate_chocolate_and_nobel():\n",
    "    c = round(random.uniform(0,15),2)\n",
    "    n_initial = (0.4 * c - 0.8)\n",
    "    n = round(0 if n_initial < 0 else n_initial, 2)\n",
    "    return (c,n)\n",
    "\n",
    "chocolate_and_nobel = [simulate_chocolate_and_nobel() for _ in range(50)]\n",
    "print(chocolate_and_nobel)"
   ]
  },
  {
   "cell_type": "markdown",
   "metadata": {},
   "source": [
    "#Problem 3(b).  Error term.\n",
    "\n",
    "Our list of data from part (a) is not a good simulation of real-world data, because it is perfectly linear.  Starting with the $c$ and $n$ values you generated in part (a), generate new $n_e$ values, using the following formula:\n",
    "\n",
    "$n_e = n + \\epsilon.$\n",
    "\n",
    "Here $\\epsilon$ should be a random variable with normal distribution, mean 0, and standard deviation 1.  Your result should be a new list of 50 ordered pairs $(c,n_e)$.  \n",
    "\n",
    "Again, your simulated data should not predict negative numbers of Nobel laureates."
   ]
  },
  {
   "cell_type": "code",
   "execution_count": 12,
   "metadata": {
    "collapsed": false
   },
   "outputs": [
    {
     "name": "stdout",
     "output_type": "stream",
     "text": [
      "[(5.58, 0.3), (3.15, 1.69), (13.1, 6.21), (1.67, 0), (9.97, 4.02), (0.87, 0), (3.26, 0), (6.56, 2.42), (9.59, 3.48), (13.44, 5.67), (8.16, 4.37), (6.18, 1.71), (10.69, 5.16), (5.92, 1.46), (8.71, 2.97), (11.08, 4.52), (7.04, 3.09), (13.79, 4.0), (1.9, 0), (2.79, 1.07), (12.34, 3.54), (4.39, 0.88), (4.23, 1.74), (12.47, 3.67), (2.61, 0.6), (5.51, 0.97), (1.24, 0), (3.8, 0), (5.32, 2.13), (8.9, 3.81), (0.9, 0), (1.49, 0), (7.68, 1.61), (12.93, 4.42), (13.92, 4.79), (14.96, 5.71), (8.26, 3.76), (12.53, 4.42), (4.84, 0.12), (1.75, 0.1), (14.41, 4.93), (3.75, 1.71), (4.34, 1.78), (12.97, 2.8), (6.95, 0.64), (1.33, 0.89), (10.07, 3.88), (8.25, 3.02), (13.86, 5.25), (11.95, 2.97)]\n"
     ]
    }
   ],
   "source": [
    "def simulate_chocolate_and_nobel():\n",
    "    c = round(random.uniform(0,15),2)\n",
    "    n_initial = (0.4 * c - 0.8) + random.normalvariate(0,1)\n",
    "    n = round(0 if n_initial < 0 else n_initial, 2)\n",
    "    return (c,n)\n",
    "\n",
    "chocolate_and_nobel = [simulate_chocolate_and_nobel() for _ in range(50)]\n",
    "print(chocolate_and_nobel)"
   ]
  },
  {
   "cell_type": "markdown",
   "metadata": {},
   "source": [
    "# Problem 3(c).  Winners and losers.\n",
    "\n",
    "Make a new list consisting of all of the ordered pairs from your list in part (b) such that $n_e > 0.4\\cdot c -0.8$.  How many items are in your list of winners?"
   ]
  },
  {
   "cell_type": "code",
   "execution_count": 14,
   "metadata": {
    "collapsed": false
   },
   "outputs": [
    {
     "name": "stdout",
     "output_type": "stream",
     "text": [
      "There are 35 winners!\n"
     ]
    }
   ],
   "source": [
    " winners = [cn for cn in chocolate_and_nobel if cn[1] > 0.4 * cn[0] - 0.8]\n",
    " print(\"There are {0} winners!\".format(len(winners)))   "
   ]
  },
  {
   "cell_type": "markdown",
   "metadata": {},
   "source": [
    "#Problem 3(d). Preparing for R.\n",
    "\n",
    "For future use, split your list of ordered pairs from Problem 3(b) into two lists.  The first list should contain the $c$ values, and the second list should contain the $n_e$ values."
   ]
  },
  {
   "cell_type": "code",
   "execution_count": null,
   "metadata": {
    "collapsed": true
   },
   "outputs": [],
   "source": [
    "c = [cn[0] for cn in chocolate_and_nobel]\n",
    "n = [cn[1] for cn in chocolate_and_nobel]"
   ]
  }
 ],
 "metadata": {
  "anaconda-cloud": {},
  "kernelspec": {
   "display_name": "Python [Root]",
   "language": "python",
   "name": "Python [Root]"
  },
  "language_info": {
   "codemirror_mode": {
    "name": "ipython",
    "version": 3
   },
   "file_extension": ".py",
   "mimetype": "text/x-python",
   "name": "python",
   "nbconvert_exporter": "python",
   "pygments_lexer": "ipython3",
   "version": "3.5.2"
  }
 },
 "nbformat": 4,
 "nbformat_minor": 0
}
