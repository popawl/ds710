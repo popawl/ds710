{
 "cells": [
  {
   "cell_type": "markdown",
   "metadata": {},
   "source": [
    "#Problem 1(a).  Unionized workers.\n",
    "\n",
    "These problems use the 1985 Current Population Survey data, ```cps.csv```, from last week.\n",
    "\n",
    "Create a pandas data frame to hold the CPS data.  Write a function that computes the average hourly wage of a unionized worker by using control flow to iterate through each row of the data frame."
   ]
  },
  {
   "cell_type": "code",
   "execution_count": 2,
   "metadata": {
    "collapsed": false
   },
   "outputs": [
    {
     "name": "stdout",
     "output_type": "stream",
     "text": [
      "10.798125\n"
     ]
    }
   ],
   "source": [
    "import pandas as pd\n",
    "import numpy as np\n",
    "\n",
    "d = pd.read_csv('cps.csv')\n",
    "\n",
    "\n",
    "def f(df):\n",
    "    c = 0\n",
    "    t = 0\n",
    "    for i,r in df.iterrows():\n",
    "        if r.union == 'Union':\n",
    "            c += 1\n",
    "            t += r.wage\n",
    "    return t / c\n",
    "\n",
    "print(f(d))"
   ]
  },
  {
   "cell_type": "markdown",
   "metadata": {},
   "source": [
    "#Problem 1(b).  More unionized workers.\n",
    "\n",
    "Write a function that takes a row of a data frame as input.  Your function should return 0 if a worker is not unionized, and the worker's hourly wage if the worker is unionized.  Apply this function to your data frame, then use the resulting series to compute the average hourly wage of a unionized worker."
   ]
  },
  {
   "cell_type": "code",
   "execution_count": 15,
   "metadata": {
    "collapsed": false
   },
   "outputs": [
    {
     "name": "stdout",
     "output_type": "stream",
     "text": [
      "10.798125\n"
     ]
    }
   ],
   "source": [
    "def g(df):\n",
    "    def inner_g(x):\n",
    "        return 0 if x.union != 'Union' else x.wage\n",
    "\n",
    "    df['g'] = df.apply(inner_g, axis=1)\n",
    "    \n",
    "    return sum(df.g)/np.count_nonzero(df.g)\n",
    "\n",
    "print(g(d))"
   ]
  },
  {
   "cell_type": "markdown",
   "metadata": {},
   "source": [
    "# Problem 1(c).  Selecting and analyzing unionized workers.\n",
    "\n",
    "Write code that selects the unionized workers, then computes the average hourly wage of the resulting subset."
   ]
  },
  {
   "cell_type": "code",
   "execution_count": 18,
   "metadata": {
    "collapsed": false
   },
   "outputs": [
    {
     "name": "stdout",
     "output_type": "stream",
     "text": [
      "10.798125\n"
     ]
    }
   ],
   "source": [
    "def h(df):\n",
    "    union = df.query('union == \"Union\"').wage\n",
    "    return np.mean(union)\n",
    "\n",
    "print(h(d))"
   ]
  },
  {
   "cell_type": "markdown",
   "metadata": {},
   "source": [
    "#Problem 1(d).  Timing.\n",
    "\n",
    "Use the ```%time``` or ```%timeit``` magic commands to compare your code from 1(a), 1(b), and 1(c).  Create a markdown cell which explains which summarizes the results of your comparison.  Can you explain what makes the fastest code fastest?"
   ]
  },
  {
   "cell_type": "code",
   "execution_count": 19,
   "metadata": {
    "collapsed": false
   },
   "outputs": [
    {
     "name": "stdout",
     "output_type": "stream",
     "text": [
      "10 loops, best of 3: 39.6 ms per loop\n",
      "100 loops, best of 3: 10.8 ms per loop\n",
      "1000 loops, best of 3: 1.47 ms per loop\n"
     ]
    }
   ],
   "source": [
    "%timeit f(d)\n",
    "%timeit g(d)\n",
    "%timeit h(d)"
   ]
  },
  {
   "cell_type": "markdown",
   "metadata": {},
   "source": [
    "The formulas vary greatly in their efficiency. Each subsequent formula is faster than the previous. The first is slowest because it requires explicitly iterating over all rows. While faster, the second is still relatively slow because it requires that we first create a new column. The last is the fastest because we are operating on a subset of the original data. In addition, the formulas have been optimized. For example, where possible they are implemented in a lower level language like C."
   ]
  }
 ],
 "metadata": {
  "anaconda-cloud": {},
  "kernelspec": {
   "display_name": "Python [Root]",
   "language": "python",
   "name": "Python [Root]"
  },
  "language_info": {
   "codemirror_mode": {
    "name": "ipython",
    "version": 3
   },
   "file_extension": ".py",
   "mimetype": "text/x-python",
   "name": "python",
   "nbconvert_exporter": "python",
   "pygments_lexer": "ipython3",
   "version": "3.5.2"
  }
 },
 "nbformat": 4,
 "nbformat_minor": 0
}
