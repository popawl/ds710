{
 "cells": [
  {
   "cell_type": "markdown",
   "metadata": {},
   "source": [
    "#Problem 1(a).  Reading Amazon Reviews.\n",
    "\n",
    "In this problem, we will analyze Amazon reviews to determine what characteristics make them most helpful.\n",
    "\n",
    "Download the file of Amazon gourmet food reviews from the [Stanford Large Network Dataset Collection](https://snap.stanford.edu/data/web-FineFoods.html).   (Your computer may already have a utility installed that can unzip the archive as a text file; if not, [7-zip](http://www.7-zip.org/) is a useful utility for Windows. You can also do a web search for ```open .gz files online``` and use an online utility.)\n",
    "\n",
    "Create a pandas DataFrame object with the following entries for each review:\n",
    "\n",
    "* Product ID\n",
    "* Number of people who voted this review helpful\n",
    "* Total number of people who rated this review\n",
    "* Rating of the product\n",
    "* Text of the review\n",
    "\n",
    "For the second and third of these, the information will be given in the file as ```1/5```, which would correspond to 1 vote for helpful out of 5 people who rated the review.\n"
   ]
  },
  {
   "cell_type": "code",
   "execution_count": 2,
   "metadata": {
    "collapsed": false
   },
   "outputs": [
    {
     "name": "stdout",
     "output_type": "stream",
     "text": [
      "         prod helpful total  rev  \\\n",
      "0  B001E4KFG0       1     1  5.0   \n",
      "1  B00813GRG4       0     0  1.0   \n",
      "2  B000LQOCH0       1     1  4.0   \n",
      "3  B000UA0QIQ       3     3  2.0   \n",
      "4  B006K2ZZ7K       0     0  5.0   \n",
      "\n",
      "                                                 txt  \n",
      "0  I have bought several of the Vitality canned d...  \n",
      "1  Product arrived labeled as Jumbo Salted Peanut...  \n",
      "2  This is a confection that has been around a fe...  \n",
      "3  If you are looking for the secret ingredient i...  \n",
      "4  Great taffy at a great price.  There was a wid...  \n"
     ]
    }
   ],
   "source": [
    "import re\n",
    "import pandas as pd\n",
    "\n",
    "\n",
    "prod = []\n",
    "helpful = []\n",
    "total = []\n",
    "rev = []\n",
    "txt = []\n",
    "\n",
    "prod_search = re.compile(r'product/productId: (.*)')\n",
    "helpful_search = re.compile(r'review/helpfulness: (.*)')\n",
    "rev_search = re.compile(r'review/score: (.*)')\n",
    "txt_search = re.compile(r'review/text: (.*)')\n",
    "\n",
    "with open('foods.txt', 'r') as f:\n",
    "    for i, line in enumerate(f):\n",
    "        \n",
    "        prod_match = prod_search.match(line)\n",
    "        helpful_match = helpful_search.match(line)\n",
    "        rev_match = rev_search.match(line)\n",
    "        txt_match = txt_search.match(line)\n",
    "        \n",
    "        if prod_match:\n",
    "            prod.append(prod_match.group(1))\n",
    "        if helpful_match:\n",
    "            h, t = helpful_match.group(1).split('/')\n",
    "            helpful.append(h)\n",
    "            total.append(t)\n",
    "        if rev_match:\n",
    "            rev.append(rev_match.group(1))\n",
    "        if txt_match:\n",
    "            txt.append(txt_match.group(1))\n",
    "\n",
    "cols = ['prod', 'helpful', 'total', 'rev', 'txt']\n",
    "df = pd.DataFrame({'prod': prod,\n",
    "                  'helpful': helpful,\n",
    "                  'total': total,\n",
    "                  'rev': rev,\n",
    "                  'txt': txt\n",
    "                  }, columns=cols)      \n",
    "print(df.head())"
   ]
  },
  {
   "cell_type": "markdown",
   "metadata": {},
   "source": [
    "#Problem 1(b).  Analyzing review text.\n",
    "\n",
    "Add columns to your DataFrame for the length of a review, the number of exclamation points in a review, and the fraction of people who rated a review helpful. You should calculate the fraction who rated a review helpful using the two columns you made in 1a, and a ratio of 1 helpful rating out of 5 total ratings should be entered as 0.2, not the string ```1/5```. If no people voted on whether a problem was helpful, the corresponding entry in your percentage helpful column should be ```NaN```."
   ]
  },
  {
   "cell_type": "code",
   "execution_count": 5,
   "metadata": {
    "collapsed": false
   },
   "outputs": [
    {
     "name": "stdout",
     "output_type": "stream",
     "text": [
      "         prod  helpful  total  rev  \\\n",
      "0  B001E4KFG0        1      1  5.0   \n",
      "1  B00813GRG4        0      0  1.0   \n",
      "2  B000LQOCH0        1      1  4.0   \n",
      "3  B000UA0QIQ        3      3  2.0   \n",
      "4  B006K2ZZ7K        0      0  5.0   \n",
      "\n",
      "                                                 txt  rev_len  excl  frac  \n",
      "0  I have bought several of the Vitality canned d...      263     0   1.0  \n",
      "1  Product arrived labeled as Jumbo Salted Peanut...      190     0   NaN  \n",
      "2  This is a confection that has been around a fe...      509     0   1.0  \n",
      "3  If you are looking for the secret ingredient i...      219     0   1.0  \n",
      "4  Great taffy at a great price.  There was a wid...      140     0   NaN  \n"
     ]
    }
   ],
   "source": [
    "df['rev_len'] = df.txt.str.len()\n",
    "df['excl'] = df.txt.str.count('!')\n",
    "df.helpful = pd.to_numeric(df.helpful)\n",
    "df.total = pd.to_numeric(df.total)\n",
    "df['frac'] = df.helpful / df.total\n",
    "df.rev = pd.to_numeric(df.rev)\n",
    "print(df.head())"
   ]
  },
  {
   "cell_type": "markdown",
   "metadata": {},
   "source": [
    "#Problem 1(c).  Summary statistics.\n",
    "\n",
    "How many reviews are in the data set?  What is the average length of a review (in characters)?  What is the average rating?  What is the greatest number of exclamation marks used in a single review?  Use the pandas package to answer these questions, then summarize your results in a markdown cell."
   ]
  },
  {
   "cell_type": "code",
   "execution_count": 6,
   "metadata": {
    "collapsed": false
   },
   "outputs": [
    {
     "name": "stderr",
     "output_type": "stream",
     "text": [
      "C:\\Anaconda3\\lib\\site-packages\\numpy\\lib\\function_base.py:3834: RuntimeWarning: Invalid value encountered in percentile\n",
      "  RuntimeWarning)\n"
     ]
    },
    {
     "data": {
      "text/html": [
       "<div>\n",
       "<table border=\"1\" class=\"dataframe\">\n",
       "  <thead>\n",
       "    <tr style=\"text-align: right;\">\n",
       "      <th></th>\n",
       "      <th>helpful</th>\n",
       "      <th>total</th>\n",
       "      <th>rev</th>\n",
       "      <th>rev_len</th>\n",
       "      <th>excl</th>\n",
       "      <th>frac</th>\n",
       "    </tr>\n",
       "  </thead>\n",
       "  <tbody>\n",
       "    <tr>\n",
       "      <th>count</th>\n",
       "      <td>568454.000000</td>\n",
       "      <td>568454.00000</td>\n",
       "      <td>568454.000000</td>\n",
       "      <td>568454.000000</td>\n",
       "      <td>568454.000000</td>\n",
       "      <td>298402.000000</td>\n",
       "    </tr>\n",
       "    <tr>\n",
       "      <th>mean</th>\n",
       "      <td>1.743817</td>\n",
       "      <td>2.22881</td>\n",
       "      <td>4.183199</td>\n",
       "      <td>436.222083</td>\n",
       "      <td>0.758047</td>\n",
       "      <td>0.776975</td>\n",
       "    </tr>\n",
       "    <tr>\n",
       "      <th>std</th>\n",
       "      <td>7.636513</td>\n",
       "      <td>8.28974</td>\n",
       "      <td>1.310436</td>\n",
       "      <td>445.339741</td>\n",
       "      <td>1.564842</td>\n",
       "      <td>0.346321</td>\n",
       "    </tr>\n",
       "    <tr>\n",
       "      <th>min</th>\n",
       "      <td>0.000000</td>\n",
       "      <td>0.00000</td>\n",
       "      <td>1.000000</td>\n",
       "      <td>12.000000</td>\n",
       "      <td>0.000000</td>\n",
       "      <td>0.000000</td>\n",
       "    </tr>\n",
       "    <tr>\n",
       "      <th>25%</th>\n",
       "      <td>0.000000</td>\n",
       "      <td>0.00000</td>\n",
       "      <td>4.000000</td>\n",
       "      <td>179.000000</td>\n",
       "      <td>0.000000</td>\n",
       "      <td>NaN</td>\n",
       "    </tr>\n",
       "    <tr>\n",
       "      <th>50%</th>\n",
       "      <td>0.000000</td>\n",
       "      <td>1.00000</td>\n",
       "      <td>5.000000</td>\n",
       "      <td>302.000000</td>\n",
       "      <td>0.000000</td>\n",
       "      <td>NaN</td>\n",
       "    </tr>\n",
       "    <tr>\n",
       "      <th>75%</th>\n",
       "      <td>2.000000</td>\n",
       "      <td>2.00000</td>\n",
       "      <td>5.000000</td>\n",
       "      <td>527.000000</td>\n",
       "      <td>1.000000</td>\n",
       "      <td>NaN</td>\n",
       "    </tr>\n",
       "    <tr>\n",
       "      <th>max</th>\n",
       "      <td>866.000000</td>\n",
       "      <td>923.00000</td>\n",
       "      <td>5.000000</td>\n",
       "      <td>21409.000000</td>\n",
       "      <td>84.000000</td>\n",
       "      <td>3.000000</td>\n",
       "    </tr>\n",
       "  </tbody>\n",
       "</table>\n",
       "</div>"
      ],
      "text/plain": [
       "             helpful         total            rev        rev_len  \\\n",
       "count  568454.000000  568454.00000  568454.000000  568454.000000   \n",
       "mean        1.743817       2.22881       4.183199     436.222083   \n",
       "std         7.636513       8.28974       1.310436     445.339741   \n",
       "min         0.000000       0.00000       1.000000      12.000000   \n",
       "25%         0.000000       0.00000       4.000000     179.000000   \n",
       "50%         0.000000       1.00000       5.000000     302.000000   \n",
       "75%         2.000000       2.00000       5.000000     527.000000   \n",
       "max       866.000000     923.00000       5.000000   21409.000000   \n",
       "\n",
       "                excl           frac  \n",
       "count  568454.000000  298402.000000  \n",
       "mean        0.758047       0.776975  \n",
       "std         1.564842       0.346321  \n",
       "min         0.000000       0.000000  \n",
       "25%         0.000000            NaN  \n",
       "50%         0.000000            NaN  \n",
       "75%         1.000000            NaN  \n",
       "max        84.000000       3.000000  "
      ]
     },
     "execution_count": 6,
     "metadata": {},
     "output_type": "execute_result"
    }
   ],
   "source": [
    "df.describe()"
   ]
  },
  {
   "cell_type": "markdown",
   "metadata": {},
   "source": [
    "The total review count is 568,454. The average length of a review is approximately 436 characters. The average rating is 4.183199. "
   ]
  },
  {
   "cell_type": "markdown",
   "metadata": {},
   "source": [
    "#Problem 1(d).  Export.\n",
    "\n",
    "Save your DataFrame as a .csv file suitable for future analysis in R.  Your .csv file should not include the review text column, as the presence of commas and quotation marks will make reading the file difficult.  You should also convert entries from ```NaN``` to the empty string before saving."
   ]
  },
  {
   "cell_type": "code",
   "execution_count": 7,
   "metadata": {
    "collapsed": true
   },
   "outputs": [],
   "source": [
    "df_s = df.ix[:,df.columns != 'txt']\n",
    "df_s.fillna('')\n",
    "df_s.to_csv('df.csv', index=False)"
   ]
  }
 ],
 "metadata": {
  "anaconda-cloud": {},
  "kernelspec": {
   "display_name": "Python [Root]",
   "language": "python",
   "name": "Python [Root]"
  },
  "language_info": {
   "codemirror_mode": {
    "name": "ipython",
    "version": 3
   },
   "file_extension": ".py",
   "mimetype": "text/x-python",
   "name": "python",
   "nbconvert_exporter": "python",
   "pygments_lexer": "ipython3",
   "version": "3.5.2"
  }
 },
 "nbformat": 4,
 "nbformat_minor": 0
}
