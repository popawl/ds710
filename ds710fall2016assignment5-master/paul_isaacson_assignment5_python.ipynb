{
 "cells": [
  {
   "cell_type": "markdown",
   "metadata": {},
   "source": [
    "#Problem 1. Pig Latin.\n",
    "\n",
    "In \"Pig Latin\", English words are transformed according to the following rules:\n",
    "\n",
    "* If the word begins with one or more consonants, those consonants are moved to the end of the word, followed by \"ay\":\n",
    "\n",
    "  * pig -> igpay\n",
    "  * Latin -> Atinlay\n",
    "  * trash -> ashtray\n",
    "\n",
    "* If the word begins with a vowel, it is followed by \"yay\":\n",
    "\n",
    "  * apple -> appleyay\n",
    "  * out -> outyay.\n",
    "  \n",
    "Write Python code that takes a word and converts it to Pig Latin.  If the input consists of multiple words or contains punctuation, your code should print a suitable error message."
   ]
  },
  {
   "cell_type": "code",
   "execution_count": 2,
   "metadata": {
    "collapsed": false
   },
   "outputs": [
    {
     "name": "stdout",
     "output_type": "stream",
     "text": [
      "ellohay\n"
     ]
    }
   ],
   "source": [
    "import re\n",
    "import string\n",
    "import csv\n",
    "\n",
    "def say_piglatin(w):\n",
    "    v = ('a','e','i','o','u')\n",
    "    r = re.compile(r'^\\b(\\w+)\\b$', re.ASCII)\n",
    "    m = re.match(r, w)\n",
    "    if m:\n",
    "        s = m.group(1)\n",
    "        if s[0] in v:\n",
    "            p = s + 'yay'\n",
    "        else:\n",
    "            p = s[1:] + s[0] + 'ay'\n",
    "        return p\n",
    "    else:\n",
    "        print(\"Opps! Please enter a valid word\")\n",
    "        \n",
    "print(say_piglatin(\"hello\"))        "
   ]
  },
  {
   "cell_type": "markdown",
   "metadata": {},
   "source": [
    "#Problem 2(a).  Letter Frequencies.\n",
    "\n",
    "The files ```encryptedA.txt``` and ```encryptedB.txt``` contain two different encrypted messages on similar topics.  One message was originally in English and one was in Welsh.  \n",
    "\n",
    "Write Python code that reads a text file into memory and creates a dictionary object with a frequency count for each letter.  For example, for ```encryptedA.txt```, your output should contain the key:value pairs  'a': 78 and 'b': 31.  Do not distinguish between uppercase and lowercase letters, and ignore punctuation.\n",
    "\n",
    "Which letter has the highest frequency in each text file?"
   ]
  },
  {
   "cell_type": "code",
   "execution_count": 7,
   "metadata": {
    "collapsed": false
   },
   "outputs": [
    {
     "name": "stdout",
     "output_type": "stream",
     "text": [
      "{'r': 114, 'g': 78, 'c': 88, 'y': 40, 't': 19, 'k': 22, 'q': 41, 'w': 76, 'i': 7, 'm': 76, 'l': 32, 'd': 28, 'a': 78, 'b': 31, 'x': 72, 'f': 18, 'u': 70, 'v': 27, 'j': 36, 'z': 16}\n",
      "r\n"
     ]
    }
   ],
   "source": [
    "def count_char(file=\"encryptedA.txt\"):\n",
    "    with open(file) as fh:\n",
    "        f = fh.read()\n",
    "        exclude_list = string.punctuation + ' '\n",
    "        return {char:f.lower().count(char) for char in f if char not in exclude_list}\n",
    "\n",
    "def max_char(d):\n",
    "    return max(d, key=d.get)\n",
    "  \n",
    "freq = count_char()\n",
    "most_freq = max_char(freq)\n",
    "print(freq)   \n",
    "print(most_freq)"
   ]
  },
  {
   "cell_type": "markdown",
   "metadata": {},
   "source": [
    "#Problem 2(b).  Formatting for R.\n",
    "\n",
    "Write your dictionaries with frequency counts to ```.csv``` files, with one column for the key and one column for the frequency counted."
   ]
  },
  {
   "cell_type": "code",
   "execution_count": 9,
   "metadata": {
    "collapsed": true
   },
   "outputs": [],
   "source": [
    "def write_charcnt(d, file=\"encryptedA.csv\"):\n",
    "    with open(file, \"w\", newline=\"\") as fh:\n",
    "        writer = csv.writer(fh)\n",
    "        writer.writerows(d.items())\n",
    "        \n",
    "write_charcnt(freq)        "
   ]
  }
 ],
 "metadata": {
  "anaconda-cloud": {},
  "kernelspec": {
   "display_name": "Python [Root]",
   "language": "python",
   "name": "Python [Root]"
  },
  "language_info": {
   "codemirror_mode": {
    "name": "ipython",
    "version": 3
   },
   "file_extension": ".py",
   "mimetype": "text/x-python",
   "name": "python",
   "nbconvert_exporter": "python",
   "pygments_lexer": "ipython3",
   "version": "3.5.2"
  }
 },
 "nbformat": 4,
 "nbformat_minor": 0
}
