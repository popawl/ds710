{
 "cells": [
  {
   "cell_type": "markdown",
   "metadata": {},
   "source": [
    "#Problem 1. Pig Latin.\n",
    "\n",
    "In \"Pig Latin\", English words are transformed according to the following rules:\n",
    "\n",
    "* If the word begins with one or more consonants, those consonants are moved to the end of the word, followed by \"ay\":\n",
    "\n",
    "  * pig -> igpay\n",
    "  * Latin -> Atinlay\n",
    "  * trash -> ashtray\n",
    "\n",
    "* If the word begins with a vowel, it is followed by \"yay\":\n",
    "\n",
    "  * apple -> appleyay\n",
    "  * out -> outyay.\n",
    "  \n",
    "Write Python code that takes a word and converts it to Pig Latin.  If the input consists of multiple words or contains punctuation, your code should print a suitable error message."
   ]
  },
  {
   "cell_type": "code",
   "execution_count": 1,
   "metadata": {
    "collapsed": false
   },
   "outputs": [
    {
     "name": "stdout",
     "output_type": "stream",
     "text": [
      "ellohay\n"
     ]
    }
   ],
   "source": [
    "import re\n",
    "import string\n",
    "import csv\n",
    "        \n",
    "def say_piglatin(w):\n",
    "    v = ('a','e','i','o','u')\n",
    "    r = re.compile(r'^\\b(\\w+)\\b$', re.ASCII)\n",
    "    m = re.match(r, w)\n",
    "    if m:\n",
    "        s = m.group(1).lower()\n",
    "        front = list(s)\n",
    "        back = []\n",
    "        if s[0] in v:\n",
    "            complete = s + 'yay'\n",
    "        elif s[0] == 'q' and s[1] == 'u':\n",
    "            complete = s[2:] + s[0:2] + 'ay'\n",
    "        else:\n",
    "            back.append(s[0])\n",
    "            front.remove(s[0])\n",
    "            for letter in s[1:]:\n",
    "                if letter in v or letter == 'y':\n",
    "                    break\n",
    "                back.append(letter)\n",
    "                front.remove(letter)\n",
    "            pieces = front + back + ['ay']    \n",
    "            complete = ''.join(pieces)\n",
    "        if m.group(1)[0].isupper():\n",
    "            complete = complete.capitalize()\n",
    "        return complete\n",
    "    else:\n",
    "        print(\"Opps! Please enter a valid word\")\n",
    "\n",
    "print(say_piglatin(\"hello\"))"
   ]
  },
  {
   "cell_type": "markdown",
   "metadata": {},
   "source": [
    "#Problem 2(a).  Letter Frequencies.\n",
    "\n",
    "The files ```encryptedA.txt``` and ```encryptedB.txt``` contain two different encrypted messages on similar topics.  One message was originally in English and one was in Welsh.  \n",
    "\n",
    "Write Python code that reads a text file into memory and creates a dictionary object with a frequency count for each letter.  For example, for ```encryptedA.txt```, your output should contain the key:value pairs  'a': 78 and 'b': 31.  Do not distinguish between uppercase and lowercase letters, and ignore punctuation.\n",
    "\n",
    "Which letter has the highest frequency in each text file?"
   ]
  },
  {
   "cell_type": "code",
   "execution_count": 3,
   "metadata": {
    "collapsed": false
   },
   "outputs": [
    {
     "name": "stdout",
     "output_type": "stream",
     "text": [
      "{'r': 114, 'x': 72, 'j': 36, 'f': 18, 'c': 88, 'u': 70, 'k': 22, 'w': 76, 'z': 16, 'm': 76, 'b': 31, 'q': 41, 'l': 32, 'y': 40, 'i': 7, 'v': 27, 'd': 28, 'a': 78, 't': 19, 'g': 78}\n",
      "r\n",
      "{'r': 13, 'x': 97, 's': 61, 'y': 92, 'u': 19, 'n': 79, 'w': 43, 't': 34, 'b': 5, 'q': 17, 'e': 28, 'k': 85, 'd': 30, 'l': 14, 'i': 6, 'j': 23, 'f': 2, 'a': 13, 'z': 61, 'm': 4, 'h': 48, 'o': 48, 'c': 54, 'p': 23, 'v': 123, 'g': 56}\n",
      "v\n"
     ]
    }
   ],
   "source": [
    "def count_char(file=\"encryptedA.txt\"):\n",
    "    with open(file) as fh:\n",
    "        f = fh.read()\n",
    "        exclude_list = string.punctuation + ' '\n",
    "        return {char:f.lower().count(char) for char in f if char not in exclude_list}\n",
    "\n",
    "def max_char(d):\n",
    "    return max(d, key=d.get)\n",
    "  \n",
    "freq = count_char()\n",
    "most_freq = max_char(freq)\n",
    "freq2 = count_char(\"encryptedB.txt\")\n",
    "most_freq2 = max_char(freq2)\n",
    "print(freq)   \n",
    "print(most_freq)\n",
    "print(freq2)\n",
    "print(most_freq2)"
   ]
  },
  {
   "cell_type": "markdown",
   "metadata": {},
   "source": [
    "#Problem 2(b).  Formatting for R.\n",
    "\n",
    "Write your dictionaries with frequency counts to ```.csv``` files, with one column for the key and one column for the frequency counted."
   ]
  },
  {
   "cell_type": "code",
   "execution_count": 4,
   "metadata": {
    "collapsed": false
   },
   "outputs": [],
   "source": [
    "def write_charcnt(d, file=\"encryptedA.csv\"):\n",
    "    with open(file, \"w\", newline=\"\") as fh:\n",
    "        writer = csv.writer(fh)\n",
    "        writer.writerows(d.items())\n",
    "        \n",
    "write_charcnt(freq)\n",
    "write_charcnt(freq2, file=\"encryptedB.csv\")"
   ]
  }
 ],
 "metadata": {
  "anaconda-cloud": {},
  "kernelspec": {
   "display_name": "Python [Root]",
   "language": "python",
   "name": "Python [Root]"
  },
  "language_info": {
   "codemirror_mode": {
    "name": "ipython",
    "version": 3
   },
   "file_extension": ".py",
   "mimetype": "text/x-python",
   "name": "python",
   "nbconvert_exporter": "python",
   "pygments_lexer": "ipython3",
   "version": "3.5.2"
  }
 },
 "nbformat": 4,
 "nbformat_minor": 0
}
