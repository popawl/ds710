{
 "cells": [
  {
   "cell_type": "markdown",
   "metadata": {},
   "source": [
    "#Problem 1(a).  Word length.\n",
    "\n",
    "Write a function called ```word_length_list()``` which takes a string and returns a list with the length of each word in the string.  Your function should ignore punctuation.  For example, ```word_length_list(\"The panda eats, shoots, and leaves!\")``` should return ```[3,5,4,6,3,6]```.  \n",
    "\n",
    "Call or create other functions as necessary to organize your work."
   ]
  },
  {
   "cell_type": "code",
   "execution_count": 32,
   "metadata": {
    "collapsed": true
   },
   "outputs": [],
   "source": [
    "import string\n",
    "import re\n",
    "import numpy as np\n",
    "import requests\n",
    "import csv\n",
    "from unidecode import unidecode\n",
    "\n",
    "def word_length_list(txt):\n",
    "    txt_no_punc = \"\".join(char for char in txt if char not in string.punctuation)\n",
    "    word_list = txt_no_punc.split()\n",
    "    return [len(word) for word in word_list]"
   ]
  },
  {
   "cell_type": "markdown",
   "metadata": {},
   "source": [
    "#Problem 1(b).  \"A Mourner.\"\n",
    "\n",
    "The text below is an anonymous essay published in The Boston Gazette and Country Journal on January 8, 1770. \n",
    "\n",
    ">The general Sympathy and Concern for the Murder of the Lad by the base and infamous Richardson on the 22d Instant, will be sufficient Reason for your Notifying the Public that he will be buried from his Father’s House in Frogg Lane, opposite Liberty-Tree, on Monday next, when all the Friends of Liberty may have an Opportunity of paying their last Respects to the Remains of this little Hero and first Martyr to the noble Cause--Whose manly Spirit (after this Accident happened) appear’d in his discreet Answers to his Doctor, his Thanks to the Clergymen who prayed with him, and Parents, and while he underwent the greatest Distress of bodily Pain; and with which he met the King of Terrors.  These Things, together with the several heroic Pieces found in his Pocket, particularly Wolfe’s Summit of human Glory, gives Reason to think he had a martial Genius, and would have made a clever Man.\n",
    "\t\t\t\t\t\n",
    "> A Mourner.\n",
    "\n",
    "(Source:  Michael Sullivan, _Statistics:  Informed Decisions Using Data_, 4th ed.  p. 188-189.)\n",
    "\n",
    "Find the length of each word in \"A Mourner\" and print the list."
   ]
  },
  {
   "cell_type": "code",
   "execution_count": 33,
   "metadata": {
    "collapsed": false
   },
   "outputs": [
    {
     "name": "stdout",
     "output_type": "stream",
     "text": [
      "[3, 7, 8, 3, 7, 3, 3, 6, 2, 3, 3, 2, 3, 4, 3, 8, 10, 2, 3, 3, 7, 4, 2, 10, 6, 3, 4, 9, 3, 6, 4, 2, 4, 2, 6, 4, 3, 7, 5, 2, 5, 4, 8, 11, 2, 6, 4, 4, 3, 3, 7, 2, 7, 3, 4, 2, 11, 2, 6, 5, 4, 8, 2, 3, 7, 2, 4, 6, 4, 3, 5, 6, 2, 3, 5, 10, 5, 6, 5, 4, 8, 8, 7, 2, 3, 8, 7, 2, 3, 6, 3, 6, 2, 3, 9, 3, 6, 4, 3, 3, 7, 3, 5, 2, 9, 3, 8, 8, 2, 6, 4, 3, 4, 5, 2, 3, 3, 4, 2, 7, 5, 6, 8, 4, 3, 7, 6, 6, 5, 2, 3, 6, 12, 6, 6, 2, 5, 5, 5, 6, 2, 5, 2, 3, 1, 7, 6, 3, 5, 4, 4, 1, 6, 3, 1, 7]\n"
     ]
    }
   ],
   "source": [
    "def reader(txt):\n",
    "    with open(txt, 'r', encoding='utf8') as f:\n",
    "       return f.read()\n",
    "\n",
    "print(word_length_list(reader('a_mourner.txt')))"
   ]
  },
  {
   "cell_type": "markdown",
   "metadata": {},
   "source": [
    "#Problem 1(c). _Pride and Prejudice_.\n",
    "\n",
    "Use Python to count the number of words and mean length of words in each sentence of Pride and Prejudice (https://www.gutenberg.org/cache/epub/1342/pg1342.txt).  Save your result as a ```.csv``` file and include the .csv file in your homework submission.\n",
    "\n",
    "* Create new functions as necessary to organize your work.\n",
    "* Include comments to explain the purpose and arguments of each function you create."
   ]
  },
  {
   "cell_type": "code",
   "execution_count": 35,
   "metadata": {
    "collapsed": false
   },
   "outputs": [],
   "source": [
    "def reader_url(url):\n",
    "    res = requests.get(url)\n",
    "    try:\n",
    "        res.raise_for_status()\n",
    "    except Exception as exc:\n",
    "        print('There was a problem: %s' % (exc))\n",
    "    return res.text\n",
    "\n",
    "def remove_header(txt):\n",
    "    '''This function removes the preamble'''\n",
    "    return(txt[txt.find('Chapter 1'):])\n",
    "\n",
    "def remove_footer(txt):\n",
    "    '''This function removes the postamble'''\n",
    "    return(txt[:txt.find('End of the Project Gutenberg EBook')])\n",
    "\n",
    "def remove_abbrev_punc(txt):\n",
    "    '''This function removes the punction on abbreviations'''\n",
    "    return re.sub(r'(Esq|Mrs|Mr|Dr|St)\\.', '\\1', txt) \n",
    "\n",
    "def remove_chapters(txt):\n",
    "    '''This function removes all Chapter labels. I decided to exclude\n",
    "    them from being counted.'''\n",
    "    return re.sub(r'Chapter [0-9]+', '', txt)\n",
    "\n",
    "def clean_string(txt, func_list=[remove_header, remove_footer, \n",
    "                                 remove_abbrev_punc, remove_chapters]):\n",
    "    '''This function runs a list of string cleaning functions.'''\n",
    "    for func in func_list:\n",
    "        txt = func(txt)\n",
    "    return txt\n",
    "\n",
    "def findall_sent(txt, clean_first=False):\n",
    "    '''This function optionally first cleans a string and then\n",
    "    divides the text into a list of sentences.'''\n",
    "    txt = clean_string(txt) if clean_first else txt\n",
    "    return re.findall(r'([A-Z][^.!?]*\\s[^.!?]+)', txt)\n",
    "\n",
    "def writer(iterable):\n",
    "    with open('paul_isaacson_assignment7.csv', 'w', newline='') as f:\n",
    "        writer = csv.writer(f)\n",
    "        for row in iterable:\n",
    "            writer.writerow(row)\n",
    "\n",
    "\n",
    "pp = reader_url('http://www.gutenberg.org/files/1342/1342-0.txt') \n",
    "sent_list = findall_sent(pp, clean_first=True)\n",
    "word_list = [word_length_list(sent) for sent in sent_list]\n",
    "cnt_and_avg_length = [(len(words), np.mean(words)) for words in word_list]\n",
    "writer(cnt_and_avg_length)"
   ]
  },
  {
   "cell_type": "markdown",
   "metadata": {},
   "source": [
    "#Problem 2.  Counting the Letter _e_.\n",
    "\n",
    "Write Python code to determine the frequency of the letter _e_ in _Pride and Prejudice_ (https://www.gutenberg.org/cache/epub/1342/pg1342.txt) and _L'Enlèvement de la redoute_ (pp. 1-7 in https://www.gutenberg.org/cache/epub/12949/pg12949.txt).\n",
    "\n",
    "* Your code should include a function called ```count_letter_e()``` which takes a string representing a filename, such as ```pg1342.txt```, as input, and returns the number of _e_'s as output.  Your function should include two optional arguments, ```ignore_accents``` and ```ignore_case```.  When ```ignore_accents = True```, your function should count accented characters such as _é_, _ê_, and _è_ as _e_.  When ```ignore_case=True```, your function should treat uppercase and lowercase _e_ as the same letter.\n",
    "* Your code should also include a function called ```count_letters()``` which takes a string representing a filename and returns the number of letters in the file.  This function should not count spaces or punctuation.\n",
    "* Create other functions as necessary to organize your work.\n",
    "* Include comments which explain the purpose and arguments of each function you create. Be sure to call your count_letter_e() function or print your result."
   ]
  },
  {
   "cell_type": "code",
   "execution_count": 36,
   "metadata": {
    "collapsed": false
   },
   "outputs": [
    {
     "name": "stdout",
     "output_type": "stream",
     "text": [
      "{'e': 71201}\n",
      "{'e': 1497}\n"
     ]
    }
   ],
   "source": [
    "def count_letter_e(filename, ignore_accents=True, ignore_case=True):\n",
    "    '''This function counts the letter freq of \"e\". If ignore_accents is selected\n",
    "    the unicode is \"decoded\" using unidecode module. If ignore_case is selected\n",
    "    the text is first converted to lower and then counted.'''\n",
    "    char = 'e'\n",
    "    txt = reader(filename)\n",
    "    if ignore_accents:\n",
    "        txt = unidecode(txt)\n",
    "    if ignore_case:\n",
    "        txt = txt.lower()\n",
    "    return {char:txt.count(char)}\n",
    "\n",
    "def count_letters(filename):\n",
    "    '''This function first removes unwanted charaters from a text and then \n",
    "    counts the total number of characters'''\n",
    "    exclude_list = string.punctuation + ' ' + '\\n'\n",
    "    txt = reader(filename)\n",
    "    clean_txt = \"\".join(char for char in txt if char not in exclude_list)\n",
    "    return (len(clean_txt))\n",
    "\n",
    "#pg1342.txt is Pride and Prejudice saved locally without modification\n",
    "print(count_letter_e('pg1342.txt'))\n",
    "print(count_letter_e(\"L'Enl\\u00E8vement_de_la_redoute.txt\"))"
   ]
  }
 ],
 "metadata": {
  "anaconda-cloud": {},
  "kernelspec": {
   "display_name": "Python [Root]",
   "language": "python",
   "name": "Python [Root]"
  },
  "language_info": {
   "codemirror_mode": {
    "name": "ipython",
    "version": 3
   },
   "file_extension": ".py",
   "mimetype": "text/x-python",
   "name": "python",
   "nbconvert_exporter": "python",
   "pygments_lexer": "ipython3",
   "version": "3.5.2"
  }
 },
 "nbformat": 4,
 "nbformat_minor": 0
}
