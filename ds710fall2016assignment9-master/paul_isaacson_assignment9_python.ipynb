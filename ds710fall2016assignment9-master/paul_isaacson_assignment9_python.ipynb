{
 "cells": [
  {
   "cell_type": "markdown",
   "metadata": {},
   "source": [
    "# Problem 1(a).  College data.\n",
    "\n",
    "The data set usnews.csv contains data from the 1995 US News and World Report on colleges and universities in the US.  \n",
    "\n",
    "(Dataset:  “US News College data,” submitted by Robin Lock, St. Lawrence University.   Dataset obtained from the Journal of Statistics Education (http://www.amstat.org/publications/jse). Accessed 23 June 2015. Used by permission of author.)\n",
    "\n",
    "Metadata:  http://www.amstat.org/publications/jse/datasets/usnews.txt\n",
    "\n",
    "\n",
    "The data set contains asterisks which indicate missing data.  Use pandas to create a data frame which replaces the asterisks by the ```NaN``` symbol. Also look out for extra spaces.  "
   ]
  },
  {
   "cell_type": "code",
   "execution_count": 9,
   "metadata": {
    "collapsed": false
   },
   "outputs": [],
   "source": [
    "import pandas as pd\n",
    "import numpy as np\n",
    "import re\n",
    "\n",
    "\n",
    "df = pd.read_csv(\"usnews.csv\")\n",
    "\n",
    "#Fix column names\n",
    "rs = [(r'^ ',r''), (r' {2,}',r' '), (r' - ',r' '), (r'%',r'pct')]\n",
    "for r in rs:\n",
    "    df.columns = df.columns.str.replace(r[0], r[1])\n",
    "\n",
    "df = df.applymap(lambda x: np.NaN if x=='*' else x)\n",
    "\n",
    "df['College Name'] = df['College Name'].str.replace(r' {2,}',r' ')"
   ]
  },
  {
   "cell_type": "markdown",
   "metadata": {
    "collapsed": true
   },
   "source": [
    "#Problem 1(b).  Categorizing universities.\n",
    "\n",
    "Create a new column in your data frame which describes whether a university is public or private, using the words \"Public\" and \"Private\" instead of numbers.  (It may be helpful to consult the metadata file.)\n"
   ]
  },
  {
   "cell_type": "code",
   "execution_count": 10,
   "metadata": {
    "collapsed": false
   },
   "outputs": [],
   "source": [
    "d = {1: \"Public\", 2: \"Private\"}\n",
    "df['Public private cat']= df['Public/private'].map(lambda x: d.get(x,x))"
   ]
  },
  {
   "cell_type": "markdown",
   "metadata": {},
   "source": [
    "#Problem 1(c).  \n",
    "\n",
    "The interquartile range is the 3rd quartile minus the 1st quartile.  Create columns recording the interquartile range for math and verbal SAT scores."
   ]
  },
  {
   "cell_type": "code",
   "execution_count": 11,
   "metadata": {
    "collapsed": false
   },
   "outputs": [],
   "source": [
    "df.ix[:,8:12] = df.ix[:,8:12].applymap(pd.to_numeric)\n",
    "for x in ['Math', 'Verbal']:\n",
    "    df[\"IQR {0}\".format(x.lower())] = \\\n",
    "        df['Third quartile {0} SAT'.format(x)] \\\n",
    "      - df['First quartile {0} SAT'.format(x)]"
   ]
  },
  {
   "cell_type": "markdown",
   "metadata": {},
   "source": [
    "# Problem 1(d).  Saving for R.\n",
    "\n",
    "Save your data frame as a .csv file for further analysis in R.  You should replace the ```NaN``` symbol with an empty string before saving.  Your output should not include a column of row numbers."
   ]
  },
  {
   "cell_type": "code",
   "execution_count": 12,
   "metadata": {
    "collapsed": false
   },
   "outputs": [],
   "source": [
    "df.fillna(\"\", inplace=True)\n",
    "df.to_csv('usnews_clean.csv', index=False)"
   ]
  }
 ],
 "metadata": {
  "anaconda-cloud": {},
  "kernelspec": {
   "display_name": "Python [Root]",
   "language": "python",
   "name": "Python [Root]"
  },
  "language_info": {
   "codemirror_mode": {
    "name": "ipython",
    "version": 3
   },
   "file_extension": ".py",
   "mimetype": "text/x-python",
   "name": "python",
   "nbconvert_exporter": "python",
   "pygments_lexer": "ipython3",
   "version": "3.5.2"
  }
 },
 "nbformat": 4,
 "nbformat_minor": 0
}
