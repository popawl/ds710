{
 "cells": [
  {
   "cell_type": "markdown",
   "metadata": {},
   "source": [
    "# Problem 1(a).  Fizz, Buzz, Woof.\n",
    "\n",
    "Write a program that prints the numbers from 1 to 100, except . . .\n",
    "\n",
    "* When you get a number that's divisible by 3, print \"Fizz\" instead.\n",
    "* When you get a number that's divisible by 5, print \"Buzz\" instead.\n",
    "* When you get a number that's divisible by 7, print \"Woof\" instead.\n",
    "\n",
    "If a number is divisible by several of these values, print the appropriate words in the corresponding order.  For example, for 15 you should print \"Fizz Buzz\", and for 35 you should print \"Buzz Woof\"."
   ]
  },
  {
   "cell_type": "code",
   "execution_count": null,
   "metadata": {
    "collapsed": true
   },
   "outputs": [],
   "source": [
    "for i in range(1,101):\n",
    "    say = \"\"\n",
    "    if i % 3 == 0:\n",
    "        say += \"Fizz \"\n",
    "    if i % 5 == 0:\n",
    "        say += \"Buzz \"\n",
    "    if i % 7 == 0:\n",
    "        say += \"Woof\"\n",
    "    print(say) if say else print(i)"
   ]
  },
  {
   "cell_type": "markdown",
   "metadata": {},
   "source": [
    "# Problem 1(b) [Optional].  Direction of Play.\n",
    "\n",
    "Fizz, Buzz, Woof originates as a children's game.  The children sit in a circle.  Initially, play moves clockwise, with each child saying a number in turn.  After the first \"Fizz\", play switches direction to counterclockwise.  After \"Buzz\", play switches back to clockwise.  The direction of play continues to switch each time an *odd* number of non-integer words is spoken.  However, two-word substitutions, such as \"Fizz Buzz\", do not change direction of play.\n",
    "\n",
    "Modify your program from 1(a) so that it indicates the direction of play.  For example, your output should begin:\n",
    "\n",
    "```\n",
    "Clockwise!\n",
    "1\n",
    "2\n",
    "Fizz\n",
    "Counterclockwise!\n",
    "4\n",
    "Buzz\n",
    "Clockwise!\n",
    "```"
   ]
  },
  {
   "cell_type": "code",
   "execution_count": null,
   "metadata": {
    "collapsed": true
   },
   "outputs": [],
   "source": [
    "d_cnt = 0\n",
    "print(\"Clockwise!\")\n",
    "for i in range(1,101):\n",
    "    say = \"\"\n",
    "    w_cnt = 0\n",
    "    if i % 3 == 0:\n",
    "        say += \"Fizz \"\n",
    "        w_cnt += 1\n",
    "    if i % 5 == 0:\n",
    "        say += \"Buzz \"\n",
    "        w_cnt += 1\n",
    "    if i % 7 == 0:\n",
    "        say += \"Woof\"\n",
    "        w_cnt += 1\n",
    "    print(say) if say else print(i)\n",
    "    if w_cnt in (1,3):\n",
    "        d_cnt += 1\n",
    "        print(\"Counter clockwise!\") if d_cnt % 2 != 0 else print(\"Clockwise!\")  "
   ]
  },
  {
   "cell_type": "markdown",
   "metadata": {},
   "source": [
    "#Problem 2(a).  Mortgage Calculator.\n",
    "\n",
    "Buying a house is one of the biggest financial transactions that many people ever undertake.  Even a small difference in interest rates or monthly payments can make a large difference in how much you ultimately pay for your mortgage.  However, these details are often buried in masses of paperwork--so it pays to be able to calculate the long-term cost of a mortgage yourself.\n",
    "\n",
    "In this problem, you will create a mortgage calculator that takes as input the *principal loan amount*, *interest rate*, and *monthly payment*.  As output, your calculator should generate an *amortization table*, and compute how many *years and months* it took to pay off the mortgage, and report the *total amount of payments* over that time.\n",
    "\n",
    "In a mortgage, the bank lends you a certain amount of principal to purchase a house at a certain interest rate.  Every month, the amount you owe (the balance) first increases due to interest:  1/12 of the interest rate times the current balance.  Then the balance decreases due to your monthly payment.\n",
    "For example, suppose you borrow $\\$100,000$ at $5\\%$ annual interest, with $\\$500$ monthly payments.  In the first month, the interest increases the balance by $\\$416.67$, and then your payment reduces it by $\\$500$, for a remaining balance of $\\$99,916.67$.  In the second month, the interest charge is $\\$416.32$, and the remaining balance is \n",
    "$\\$99,832.99$.\n",
    "If you continue this process, you get an amortization table like this:\n",
    " \n",
    "```\n",
    "month\t payment\t interest\t balance\t\n",
    "1 \t     500 \t\t 416.67 \t 99916.67\n",
    "2 \t     500 \t\t 416.32 \t 99832.99\n",
    "3 \t     500 \t\t 415.97 \t 99748.96\n",
    "4 \t     500 \t\t 415.62 \t 99664.58\n",
    "5 \t     500 \t\t 415.27 \t 99579.85\n",
    "6 \t     500 \t\t 414.92 \t 99494.76\n",
    "7 \t     500 \t\t 414.56 \t 99409.32\n",
    "8 \t     500 \t\t 414.21 \t 99323.53\n",
    "9 \t     500 \t\t 413.85 \t 99237.38\n",
    "10 \t    500 \t\t 413.49 \t 99150.87\n",
    "\n",
    "```\n",
    " \n",
    "You can also compute the total amount of time and money to pay off the mortgage.  In this example, it takes 35 years and 11 months, and the total amount paid is approximately $\\$215,548.84$.\n",
    " \n",
    "Here are some things to consider when implementing the calculator:\n",
    "1.  Start with some simple examples that only take a few payments, so you can verify your results by hand.\n",
    "2.  For dollar values, only display two digits of precision after the decimal point.  (You can assume that the bank will not round internally!)\n",
    "3.  The final payment will almost certainly be smaller than the others, so be careful to check for that case so you don't end up with a negative balance.\n",
    "4.  If the monthly payment is too small, the balance will go up every month!  If this happens, the program should stop and display an appropriate error message.\n",
    "5.  If you accidentally create an infinite loop, try to interrupt or restart the kernel.\n",
    "6.  Use the modulus or $\\%$  operator to separate the years and months.\n"
   ]
  },
  {
   "cell_type": "code",
   "execution_count": null,
   "metadata": {
    "collapsed": true
   },
   "outputs": [],
   "source": [
    "def mortgage_calculator(balance, rate_per_year, payment):\n",
    "\n",
    "    \"\"\"This function will take an original balance, interest rate per year,\n",
    "    and monthly payment. It will output the amoritization as well as total\n",
    "    payment time and amount.\n",
    "    \"\"\"\n",
    "\n",
    "    total_months = 0\n",
    "    rate_per_month = rate_per_year/12\n",
    "    total_paid = 0\n",
    "    interest_first_month = balance * rate_per_month\n",
    "    if(payment > interest_first_month):\n",
    "        print(\"month\", \"\\t\", \"payment\", \"\\t\", \"interest\", \"\\t\", \"balance\")\n",
    "        while balance > payment:\n",
    "            total_months += 1\n",
    "            total_paid += payment\n",
    "            interest = balance * rate_per_month\n",
    "            balance = balance + interest - payment\n",
    "            print(total_months, \"\\t\", payment, \"\\t\", \"{:.2f}\".format(interest),\n",
    "                  \"\\t\", \"{:.2f}\".format(balance))\n",
    "        if balance > 0:\n",
    "            total_months += 1\n",
    "            interest = balance * rate_per_month\n",
    "            total_paid += interest + balance\n",
    "            balance = 0\n",
    "            print(total_months, \"\\t\", payment, \"\\t\", \"{:.2f}\".format(interest),\n",
    "                  \"\\t\", \"{:.2f}\".format(balance))\n",
    "        total_years = total_months // 12\n",
    "        remainder_months = total_months % 12\n",
    "        print(\"It took you\", total_years, \"years and\", remainder_months,\n",
    "              \"months to pay off the loan.\")\n",
    "        print(\"You paid a total of\", \"{:.2f}\".format(total_paid), \"dollars.\")\n",
    "    else:\n",
    "        print(\"Oops! Please make sure monthly \\\n",
    "              payment is greater than monthly interest.\")"
   ]
  },
  {
   "cell_type": "markdown",
   "metadata": {},
   "source": [
    "#Problem 2(b). Calculator Analysis.\n",
    "\n",
    "Answer the following questions in a markdown cell.\n",
    "\n",
    "1.  Describe in your own words how the mortgage calculator works.  What are the steps you are computing?  What are you keeping track of in each iteration?\n",
    "2.\tIf you had a mortgage with a principal of $\\$250,000$, an interest rate of $4\\%$, and a monthly payment of $\\$1000$, how long would it take you to pay it off?  How much would you have paid in total? \n"
   ]
  },
  {
   "cell_type": "markdown",
   "metadata": {
    "collapsed": true
   },
   "source": [
    "1. The inputs are original balance, yearly interest rate, and monthly payment. In addition, I start a counter for total months paid and total amount paid. The iteration continues until the loan balance is less than the loan payment. During each loop of the iteration, I increment the total months by 1. I increment the total amount paid by the monthly payment. I calculate the interest based on the balance at the time multiplied by the rate for the month. I calculate the new balance by adding the interest and subtracting the monthly payment to the previous balance. When the balance is less than the monthly payment but still greater than zero, I add one more month to my counter. I calculate one more interest in same manner as above. I add the interest plus remaining balance to the total amount paid. Finally, I change the balance to zero.\n",
    "\n",
    "2. It took you 44 years and 11 months to pay off the loan. You paid a total of 538423.63 dollars."
   ]
  }
 ],
 "metadata": {
  "anaconda-cloud": {},
  "kernelspec": {
   "display_name": "Python [Root]",
   "language": "python",
   "name": "Python [Root]"
  },
  "language_info": {
   "codemirror_mode": {
    "name": "ipython",
    "version": 3
   },
   "file_extension": ".py",
   "mimetype": "text/x-python",
   "name": "python",
   "nbconvert_exporter": "python",
   "pygments_lexer": "ipython3",
   "version": "3.5.2"
  }
 },
 "nbformat": 4,
 "nbformat_minor": 0
}
